{
 "cells": [
  {
   "cell_type": "code",
   "execution_count": 1,
   "metadata": {},
   "outputs": [],
   "source": [
    "import numpy as np\n",
    "import matplotlib.pyplot as plt\n",
    "from astropy.io import fits\n",
    "import matplotlib.cm as cm\n",
    "import os, sys\n",
    "from PIL import Image\n",
    "import gc\n",
    "import time\n",
    "import math\n",
    "import numpy as np\n",
    "import numpy.ma as ma\n",
    "import matplotlib\n",
    "from scipy.stats import lognorm\n",
    "from astropy.io import fits\n",
    "from scipy.stats import mode\n",
    "import time\n",
    "import ast\n",
    "import matplotlib.pyplot as plt\n",
    "import math\n",
    "import fnmatch as fnm\n",
    "from scipy.optimize import curve_fit\n",
    "from scipy.stats import chisquare\n",
    "from scipy.signal import find_peaks\n",
    "from scipy.io import readsav\n",
    "import csv\n",
    "import seaborn as sns\n",
    "from mpl_toolkits.axes_grid1 import make_axes_locatable\n",
    "import LimbSpectralTool_getL1CData_v20 as gsi_l1c\n",
    "import LimbSpectralTool_InteractiveTool_DN_v20 as spectralTool\n",
    "from matplotlib.widgets import TextBox\n",
    "import matplotlib.patches as patches\n",
    "from collections import OrderedDict\n",
    "from scipy import interpolate\n",
    "import matplotlib.image as image\n",
    "import matplotlib.cbook as cbook\n",
    "import matplotlib.colors as colors\n",
    "from scipy import stats\n",
    "import warnings\n",
    "plt.rcParams.update({'figure.max_open_warning': 0})\n",
    "warnings.filterwarnings(\"ignore\")"
   ]
  },
  {
   "cell_type": "code",
   "execution_count": 2,
   "metadata": {},
   "outputs": [],
   "source": [
    "version = 'v20'"
   ]
  },
  {
   "cell_type": "code",
   "execution_count": 3,
   "metadata": {},
   "outputs": [],
   "source": [
    "#Directory where magnetic field map ('bfield_smoothed.npy') and spectral templates are stored ('templates_.....npy')\n",
    "map_and_data_dir = r'C:\\Users\\Owner\\OneDrive - UCB-O365\\Documents\\College\\LASP\\MAVEN\\code\\l1c_Adrienne_v20_final\\maps'\n",
    "\n",
    "#Directory where npy files for clicked pixels are stored:\n",
    "clicked_pixel_dir = r'C:\\Users\\Owner\\OneDrive - UCB-O365\\Documents\\College\\LASP\\MAVEN\\code\\l1c_Adrienne_v20_final\\pixel_npy_files' \n",
    "\n",
    "#Directory where L1C files are stored\n",
    "dir_to_dataFiles = r'C:\\Users\\Owner\\OneDrive - UCB-O365\\Documents\\College\\LASP\\MAVEN\\code\\l1c_Adrienne_v20_final\\l1c_files'"
   ]
  },
  {
   "cell_type": "code",
   "execution_count": 4,
   "metadata": {
    "scrolled": true
   },
   "outputs": [],
   "source": [
    "#load a list of files for a specific observation type, i.e. periapse, inlimb, outlimb, etc\n",
    "\n",
    "fileType = 'mvn' #this will load all files regardless of observation type\n",
    "Range = (1600, 8700) #Use this to only load files with orbits within a specific region. \n",
    "                   #otherwise leave it as is to load files for the whole MAVEN mission length\n",
    "\n",
    "orbits, l1cFiles = gsi_l1c.getFiles(fileType, dir_to_dataFiles, Range)"
   ]
  },
  {
   "cell_type": "code",
   "execution_count": 5,
   "metadata": {},
   "outputs": [],
   "source": [
    "def run(orbN, scan):\n",
    "    orbInd = np.where(orbits == orbN)[0][0]\n",
    "    file = l1cFiles[orbInd]\n",
    "    wave, orb, radCO, radUVD, radNO, spectra, COProfiles, UVDProfiles, NOProfiles, \\\n",
    "                alts, lats, lons, PAs, SZAs, LTs, fitIndices = gsi_l1c.getFileData(file)\n",
    "    %matplotlib qt\n",
    "    orbInd = 0\n",
    "    \n",
    "    coIndex, uvdIndex, noIndex = fitIndices[0], fitIndices[1], fitIndices[2]\n",
    "    coImg = radCO[orbInd][scan, :, :] #CO scan image\n",
    "    uvdImg = radUVD[orbInd][scan, :, :] #UVD scan image\n",
    "    latC = lats[orbInd][scan, :, :, :]\n",
    "    lonC = lons[orbInd][scan, :, :, :]\n",
    "    spectrum = spectra[orbInd][scan, :, :, :]\n",
    "    altProfileCO = COProfiles[orbInd][scan, :] #CO emission  altitude profile\n",
    "    altProfileUVD = UVDProfiles[orbInd][scan, :] #UVD emission  altitude profile\n",
    "    altProfileNO = NOProfiles[orbInd][scan, :] #NO emission  altitude profile\n",
    "    alt = alts[orbInd][scan, :]\n",
    "    LT = LTs[orbInd][scan, :, :]\n",
    "    wav = wave[orbInd][scan, 0, :]\n",
    "    COaltProf_kR = np.nanmean(fits.open(file)[4].data['PROFILE'][scan, :, coIndex])  #intensity of altitude fits\n",
    "    UVDaltProf_kR = np.nanmean(fits.open(file)[4].data['PROFILE'][scan, :, uvdIndex]) \n",
    "    NOaltProf_kR = np.nanmean(fits.open(file)[4].data['PROFILE'][scan, :, noIndex]) \n",
    "    \n",
    "    spectralTool.runSpectralTool(file, wav, coImg, uvdImg, spectrum, altProfileCO, altProfileUVD, altProfileNO, alt, latC, lonC, LT, orbN, scan, version)"
   ]
  },
  {
   "cell_type": "markdown",
   "metadata": {},
   "source": [
    "the main run cell is below.  enter orbit and scan and the tool will load. when finished, close the pop-up tool window and then enter the next orbit and scan you'd like to analyze."
   ]
  },
  {
   "cell_type": "code",
   "execution_count": 16,
   "metadata": {},
   "outputs": [],
   "source": [
    "%matplotlib qt\n",
    "run(8676, 4)"
   ]
  },
  {
   "cell_type": "code",
   "execution_count": 10,
   "metadata": {},
   "outputs": [],
   "source": [
    "#Grabs all .csv files printed out from using the spectral tool\n",
    "pixelDataFiles = gsi_l1c.find_all('*limb_analysis_{}_orbit_*'.format(version), clicked_pixel_dir)"
   ]
  },
  {
   "cell_type": "code",
   "execution_count": 9,
   "metadata": {},
   "outputs": [
    {
     "data": {
      "text/plain": [
       "24"
      ]
     },
     "execution_count": 9,
     "metadata": {},
     "output_type": "execute_result"
    }
   ],
   "source": [
    "len(pixelDataFiles)"
   ]
  },
  {
   "cell_type": "code",
   "execution_count": 9,
   "metadata": {
    "scrolled": true
   },
   "outputs": [],
   "source": [
    "files, recordedOrbits, recordedScans, wave_kR, wave_DN, spectra_kR, spectra_DN, lons, lats, lonErrs, latErrs, pixels, LTs,\\\n",
    "            COintensity, UVDintensity, COmlr, UVDmlr = [], [], [], [], [], [], [], [], [], [], [], [], [], [], [], [], []\n",
    "for i in range(len(pixelDataFiles)):\n",
    "    data = np.load(pixelDataFiles[i], allow_pickle=True)\n",
    "\n",
    "    orbit, scan = int(np.array(data[12])[0]), int(np.array(data[12])[1]) # orbit and scan of interest\n",
    "    wavArr_kR = np.array(data[0], dtype=np.float64) # wavelength values #nm\n",
    "    wavArr_DN = np.array(data[1], dtype=np.float64) # wavelength values #nm\n",
    "    spectrum_kR = np.array(data[2], dtype=np.float64) # spectrum values of clicked pixels, kR/nm\n",
    "    spectrum_DN = np.array(data[3], dtype=np.float64) # spectrum values of clicked pixels, DN/nm\n",
    "    lon = np.array(data[4], dtype=np.float64) # center longitudes of clicked pixels, degrees\n",
    "    lat = np.array(data[5], dtype=np.float64) # center latitudes of clicked pixels, degrees\n",
    "    lonErr = np.array(data[6], dtype=np.float64) # error values for centers of clicked longitudes, degrees\n",
    "    latErr = np.array(data[7], dtype=np.float64) # error values for centers of clicked latitudes, degrees\n",
    "    pix = np.array(data[8]) # pixels clicked, first is the integration (y-axis), secoond is the row (x axis)\n",
    "    lt = np.array(data[9], dtype=np.float64) # local times of clicked pixels\n",
    "    mlrCOval = np.array(data[10], dtype=np.float64) #intensity (MLR) values of clicked pixels\n",
    "    mlrUVDval = np.array(data[11], dtype=np.float64) #intensity (MLR) values of clicked pixels\n",
    "        \n",
    "    \n",
    "\n",
    "    recordedOrbits.append(orbit)\n",
    "    recordedScans.append(scan)\n",
    "    wave_kR.append(wavArr_kR)\n",
    "    spectra_kR.append(spectrum_kR)\n",
    "    wave_DN.append(wavArr_DN)\n",
    "    spectra_DN.append(spectrum_DN)\n",
    "    lons.append(lon)\n",
    "    lats.append(lat)\n",
    "    lonErrs.append(lonErr)\n",
    "    latErrs.append(latErr)\n",
    "    pixels.append(pix)\n",
    "    LTs.append(lt)\n",
    "    COmlr.append(mlrCOval)\n",
    "    UVDmlr.append(mlrUVDval)\n",
    "    COintensity.append(np.round(np.mean(mlrCOval), 2))\n",
    "    UVDintensity.append(np.round(np.mean(mlrUVDval), 2))\n",
    "    files.append(data[13])\n",
    "\n",
    "    #print(f\"file: {pixelDataFiles[i]}\")\n",
    "    #print(f\"CO MLR values for clicked pixels: {mlrCOval}\")\n",
    "    #print(f\"UVD MLR values for clicked pixels: {mlrUVDval}\")\n",
    "    #print('\\n\\n')\n",
    "\n",
    "files = np.array(files)\n",
    "recordedOrbits = np.array(recordedOrbits)\n",
    "recordedScans = np.array(recordedScans)\n",
    "wave_kR = np.array(wave_kR)\n",
    "spectra_kR = np.array(spectra_kR)\n",
    "wave_DN = np.array(wave_DN)\n",
    "spectra_DN = np.array(spectra_DN)\n",
    "lons = np.array(lons)\n",
    "lats = np.array(lats)\n",
    "lonErrs = np.array(lonErrs)\n",
    "latErrs = np.array(latErrs)\n",
    "pixels = np.array(pixels)\n",
    "LTs = np.array(LTs)\n",
    "COmlr = np.array(COmlr)\n",
    "UVDmlr = np.array(UVDmlr)\n",
    "COintensity = np.array(COintensity)\n",
    "UVDintensity = np.array(UVDintensity)"
   ]
  },
  {
   "cell_type": "code",
   "execution_count": 10,
   "metadata": {},
   "outputs": [
    {
     "data": {
      "text/plain": [
       "[<matplotlib.lines.Line2D at 0x1c3ab6f6280>]"
      ]
     },
     "execution_count": 10,
     "metadata": {},
     "output_type": "execute_result"
    },
    {
     "data": {
      "image/png": "[encoded data removed]",
      "text/plain": [
       "<Figure size 432x288 with 1 Axes>"
      ]
     },
     "metadata": {
      "needs_background": "light"
     },
     "output_type": "display_data"
    }
   ],
   "source": [
    "%matplotlib inline\n",
    "plt.plot(wave_kR[0], spectra_kR[0])"
   ]
  },
  {
   "cell_type": "code",
   "execution_count": 11,
   "metadata": {},
   "outputs": [
    {
     "data": {
      "text/plain": [
       "[<matplotlib.lines.Line2D at 0x1c3a71a0cd0>]"
      ]
     },
     "execution_count": 11,
     "metadata": {},
     "output_type": "execute_result"
    },
    {
     "data": {
      "image/png": "[encoded data removed]",
      "text/plain": [
       "<Figure size 432x288 with 1 Axes>"
      ]
     },
     "metadata": {
      "needs_background": "light"
     },
     "output_type": "display_data"
    }
   ],
   "source": [
    "plt.plot(wave_DN[0], spectra_DN[0])"
   ]
  },
  {
   "cell_type": "code",
   "execution_count": null,
   "metadata": {},
   "outputs": [],
   "source": []
  },
  {
   "cell_type": "code",
   "execution_count": null,
   "metadata": {},
   "outputs": [],
   "source": []
  },
  {
   "cell_type": "code",
   "execution_count": null,
   "metadata": {},
   "outputs": [],
   "source": []
  },
  {
   "cell_type": "code",
   "execution_count": null,
   "metadata": {},
   "outputs": [],
   "source": []
  },
  {
   "cell_type": "code",
   "execution_count": null,
   "metadata": {},
   "outputs": [],
   "source": []
  },
  {
   "cell_type": "code",
   "execution_count": null,
   "metadata": {},
   "outputs": [],
   "source": []
  },
  {
   "cell_type": "code",
   "execution_count": null,
   "metadata": {},
   "outputs": [],
   "source": []
  },
  {
   "cell_type": "code",
   "execution_count": null,
   "metadata": {},
   "outputs": [],
   "source": []
  },
  {
   "cell_type": "code",
   "execution_count": null,
   "metadata": {},
   "outputs": [],
   "source": []
  },
  {
   "cell_type": "code",
   "execution_count": null,
   "metadata": {},
   "outputs": [],
   "source": []
  },
  {
   "cell_type": "code",
   "execution_count": null,
   "metadata": {},
   "outputs": [],
   "source": []
  },
  {
   "cell_type": "code",
   "execution_count": null,
   "metadata": {},
   "outputs": [],
   "source": []
  },
  {
   "cell_type": "code",
   "execution_count": null,
   "metadata": {},
   "outputs": [],
   "source": []
  },
  {
   "cell_type": "code",
   "execution_count": null,
   "metadata": {},
   "outputs": [],
   "source": []
  },
  {
   "cell_type": "code",
   "execution_count": null,
   "metadata": {},
   "outputs": [],
   "source": []
  },
  {
   "cell_type": "code",
   "execution_count": null,
   "metadata": {},
   "outputs": [],
   "source": []
  },
  {
   "cell_type": "code",
   "execution_count": null,
   "metadata": {},
   "outputs": [],
   "source": []
  },
  {
   "cell_type": "code",
   "execution_count": null,
   "metadata": {},
   "outputs": [],
   "source": []
  },
  {
   "cell_type": "code",
   "execution_count": null,
   "metadata": {},
   "outputs": [],
   "source": []
  },
  {
   "cell_type": "code",
   "execution_count": null,
   "metadata": {},
   "outputs": [],
   "source": []
  },
  {
   "cell_type": "code",
   "execution_count": null,
   "metadata": {},
   "outputs": [],
   "source": []
  },
  {
   "cell_type": "code",
   "execution_count": null,
   "metadata": {},
   "outputs": [],
   "source": []
  },
  {
   "cell_type": "code",
   "execution_count": null,
   "metadata": {},
   "outputs": [],
   "source": []
  },
  {
   "cell_type": "code",
   "execution_count": null,
   "metadata": {},
   "outputs": [],
   "source": []
  },
  {
   "cell_type": "code",
   "execution_count": null,
   "metadata": {},
   "outputs": [],
   "source": []
  },
  {
   "cell_type": "code",
   "execution_count": null,
   "metadata": {},
   "outputs": [],
   "source": []
  },
  {
   "cell_type": "code",
   "execution_count": null,
   "metadata": {},
   "outputs": [],
   "source": []
  },
  {
   "cell_type": "code",
   "execution_count": null,
   "metadata": {},
   "outputs": [],
   "source": []
  },
  {
   "cell_type": "code",
   "execution_count": null,
   "metadata": {},
   "outputs": [],
   "source": [
    "    "
   ]
  },
  {
   "cell_type": "code",
   "execution_count": null,
   "metadata": {},
   "outputs": [],
   "source": []
  },
  {
   "cell_type": "code",
   "execution_count": null,
   "metadata": {},
   "outputs": [],
   "source": []
  },
  {
   "cell_type": "code",
   "execution_count": null,
   "metadata": {},
   "outputs": [],
   "source": []
  },
  {
   "cell_type": "code",
   "execution_count": null,
   "metadata": {},
   "outputs": [],
   "source": []
  },
  {
   "cell_type": "code",
   "execution_count": null,
   "metadata": {},
   "outputs": [],
   "source": []
  },
  {
   "cell_type": "code",
   "execution_count": null,
   "metadata": {},
   "outputs": [],
   "source": []
  },
  {
   "cell_type": "code",
   "execution_count": null,
   "metadata": {},
   "outputs": [],
   "source": []
  },
  {
   "cell_type": "code",
   "execution_count": null,
   "metadata": {},
   "outputs": [],
   "source": []
  },
  {
   "cell_type": "code",
   "execution_count": null,
   "metadata": {},
   "outputs": [],
   "source": []
  },
  {
   "cell_type": "code",
   "execution_count": null,
   "metadata": {},
   "outputs": [],
   "source": []
  }
 ],
 "metadata": {
  "kernelspec": {
   "display_name": "Python 3",
   "language": "python",
   "name": "python3"
  },
  "language_info": {
   "codemirror_mode": {
    "name": "ipython",
    "version": 3
   },
   "file_extension": ".py",
   "mimetype": "text/x-python",
   "name": "python",
   "nbconvert_exporter": "python",
   "pygments_lexer": "ipython3",
   "version": "3.8.8"
  }
 },
 "nbformat": 4,
 "nbformat_minor": 4
}
